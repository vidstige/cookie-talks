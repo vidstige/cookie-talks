{
 "cells": [
  {
   "cell_type": "markdown",
   "id": "de390488-e069-4934-a3ee-ecae2f46f81a",
   "metadata": {},
   "source": [
    "# Floating Point numbers\n",
    "1. Integers\n",
    "2. Fixed point\n",
    "3. Floating point\n",
    "4. Questions\n",
    "    "
   ]
  },
  {
   "cell_type": "markdown",
   "id": "fc72d662-ea70-485a-9b49-24b1db5363e1",
   "metadata": {},
   "source": [
    "## Integers"
   ]
  },
  {
   "cell_type": "code",
   "execution_count": 14,
   "id": "7ac864e7-2d42-4efd-a86c-807904a2b3ae",
   "metadata": {},
   "outputs": [
    {
     "name": "stdout",
     "output_type": "stream",
     "text": [
      " 0 0000\n",
      " 1 0001\n",
      " 2 0010\n",
      " 3 0011\n",
      " 4 0100\n",
      " 5 0101\n",
      " 6 0110\n",
      " 7 0111\n",
      " 8 1000\n",
      " 9 1001\n",
      "10 1010\n",
      "11 1011\n",
      "12 1100\n",
      "13 1101\n",
      "14 1110\n",
      "15 1111\n"
     ]
    }
   ],
   "source": [
    "for i in range(16):\n",
    "    print(f\"{i:2} {i:04b}\")"
   ]
  },
  {
   "cell_type": "markdown",
   "id": "f581c5a9-ad2c-4af9-a638-70b5eb93747d",
   "metadata": {},
   "source": [
    "### Negative integers\n",
    "- The most significant bit indicates if a value is negative\n",
    "- However, negating a number is not as simple as flipping this bit\n",
    "- Negative numbers are stored in something called two's complement"
   ]
  },
  {
   "cell_type": "code",
   "execution_count": 49,
   "id": "061ca94c-2a01-415d-b84a-1762dabe2860",
   "metadata": {},
   "outputs": [
    {
     "data": {
      "text/plain": [
       "'-110'"
      ]
     },
     "execution_count": 49,
     "metadata": {},
     "output_type": "execute_result"
    }
   ],
   "source": [
    "a = -6\n",
    "f\"{a:04b}\""
   ]
  },
  {
   "cell_type": "code",
   "execution_count": 47,
   "id": "1df5e532-8107-468b-b453-776d5cc4c1a2",
   "metadata": {
    "scrolled": true
   },
   "outputs": [
    {
     "data": {
      "text/plain": [
       "['11111010']"
      ]
     },
     "execution_count": 47,
     "metadata": {},
     "output_type": "execute_result"
    }
   ],
   "source": [
    "[format(b, '8b') for b in (-6).to_bytes(signed=True)]"
   ]
  },
  {
   "cell_type": "code",
   "execution_count": 63,
   "id": "82b9df4d-af82-4d0b-a6fe-47670d09347a",
   "metadata": {},
   "outputs": [
    {
     "name": "stdout",
     "output_type": "stream",
     "text": [
      "122\n",
      "58\n"
     ]
    }
   ],
   "source": [
    "print(0b1111010)  # format above as decimal\n",
    "print(0b0111010)  # mask out top bit - It's not 6!"
   ]
  },
  {
   "cell_type": "code",
   "execution_count": 64,
   "id": "b5e02a63-560f-401d-894b-fb3973b248cb",
   "metadata": {},
   "outputs": [
    {
     "data": {
      "text/plain": [
       "-6"
      ]
     },
     "execution_count": 64,
     "metadata": {},
     "output_type": "execute_result"
    }
   ],
   "source": [
    "0b1111010\n",
    "122 - (1 << (8-1))"
   ]
  },
  {
   "cell_type": "markdown",
   "id": "16264470-c0d9-4e0a-a90d-90007418ed35",
   "metadata": {},
   "source": [
    "## Fixed point"
   ]
  },
  {
   "cell_type": "markdown",
   "id": "e0bc0a61-ccef-41a8-a4d5-5f04f41366af",
   "metadata": {},
   "source": [
    "What if we want to store half-numbers as well, like 17.5?"
   ]
  },
  {
   "cell_type": "code",
   "execution_count": 122,
   "id": "f17f7e44-5f5c-4b90-9e3f-fb5430fe2943",
   "metadata": {},
   "outputs": [
    {
     "name": "stdout",
     "output_type": "stream",
     "text": [
      "00010001 17 just 17\n",
      "00100010 34 shifted one step\n",
      "00100011 35 17.5\n",
      "01000110 70 17.5 + 17.5 shifted one step to the left\n",
      "00100011 35 17.5 + 17.5 rounded to closest int\n"
     ]
    }
   ],
   "source": [
    "# Just the number 17\n",
    "a = 17 \n",
    "print(f\"{a:08b} {a} just 17\")\n",
    "\n",
    "# let's use the least significant bit for halves!\n",
    "a = a << 1\n",
    "print(f\"{a:08b} {a} shifted one step\")\n",
    "\n",
    "# make it 17.5\n",
    "a += 1\n",
    "print(f\"{a:08b} {a} 17.5\")\n",
    "\n",
    "# let's add a with a\n",
    "b = a + a\n",
    "print(f\"{b:08b} {b} 17.5 + 17.5 shifted one step to the left\")\n",
    "\n",
    "# let's shift back to int. The \"half-indicator bit\" is dropped\n",
    "b = b >> 1\n",
    "print(f\"{b:08b} {b} 17.5 + 17.5 rounded to closest int\")"
   ]
  },
  {
   "cell_type": "markdown",
   "id": "704975ff-03b2-435d-9b55-1611296d86ce",
   "metadata": {},
   "source": [
    "### Interlude - Quick recap on bit masks"
   ]
  },
  {
   "cell_type": "code",
   "execution_count": 102,
   "id": "44cac2b1-6773-4e2a-808c-8706829976bc",
   "metadata": {},
   "outputs": [
    {
     "name": "stdout",
     "output_type": "stream",
     "text": [
      "00001000\n",
      "00000111\n"
     ]
    }
   ],
   "source": [
    "# Quick recap on bit masks\n",
    "print(f\"{1 << 3:08b}\")\n",
    "print(f\"{(1 << 3) - 1:08b}\")"
   ]
  },
  {
   "cell_type": "code",
   "execution_count": 106,
   "id": "77ac6561-28d8-407c-a037-37a2181a04e3",
   "metadata": {},
   "outputs": [
    {
     "name": "stdout",
     "output_type": "stream",
     "text": [
      "00010001\n",
      "00000111\n",
      "00000001\n"
     ]
    }
   ],
   "source": [
    "a = 17\n",
    "mask = (1 << 3) - 1\n",
    "print(f\"{a:08b}\")\n",
    "print(f\"{mask:08b}\")\n",
    "print(f\"{a & mask:08b}\")"
   ]
  },
  {
   "cell_type": "code",
   "execution_count": 127,
   "id": "fbffe48e-6cb5-4120-b815-10041bbe4adc",
   "metadata": {},
   "outputs": [
    {
     "name": "stdout",
     "output_type": "stream",
     "text": [
      "17.75 284 17.75\n"
     ]
    }
   ],
   "source": [
    "# The same reasoning can be extended to quarters by shifting two steps, etc. In general we can shift EXPONENT step\n",
    "EXPONENT = 4\n",
    "Fixed = int\n",
    "def to_fixed(value: float) -> Fixed:\n",
    "    i = int(value)  # integer part\n",
    "    f = value - i  # fraction part\n",
    "    return (i << EXPONENT) + int(f * (1 << EXPONENT))\n",
    "\n",
    "def to_float(fixed: Fixed) -> float:\n",
    "    mask = (1 << EXPONENT) - 1\n",
    "    return (fixed >> EXPONENT) + (fixed & mask) / (1 << (EXPONENT))\n",
    "\n",
    "start = 17.75\n",
    "fixed = to_fixed(start)\n",
    "end = to_float(fixed)\n",
    "print(start, fixed, end)"
   ]
  },
  {
   "cell_type": "markdown",
   "id": "9d441bff-4705-4232-b44e-34f515f05933",
   "metadata": {},
   "source": [
    "### Multiplication\n",
    "When multiplying fixed point numbers, things get slightly more tricky."
   ]
  },
  {
   "cell_type": "code",
   "execution_count": 134,
   "id": "20eda69e-4798-455e-a7ed-2d38a8ffa84f",
   "metadata": {
    "scrolled": true
   },
   "outputs": [
    {
     "data": {
      "text/plain": [
       "96.0"
      ]
     },
     "execution_count": 134,
     "metadata": {},
     "output_type": "execute_result"
    }
   ],
   "source": [
    "a = to_fixed(2.0)\n",
    "b = to_fixed(3.0)\n",
    "to_float(a * b)  # something is not right, we should get 6?"
   ]
  },
  {
   "cell_type": "markdown",
   "id": "e9f22a44-f764-49b6-8f6a-3e362b392335",
   "metadata": {},
   "source": [
    "$$a=2$$\n",
    "$$b=3$$\n",
    "$$a_{fixed} = 32 = a2^{-4}$$\n",
    "$$b_{fixed} = 48 = b2^{-4}$$\n",
    "$$a_{fixed}b_{fixed} = ab2^{-8}$$"
   ]
  },
  {
   "cell_type": "code",
   "execution_count": 136,
   "id": "a181ac7b-ae6b-47ee-9951-516c9b186ae5",
   "metadata": {
    "scrolled": true
   },
   "outputs": [
    {
     "data": {
      "text/plain": [
       "6.0"
      ]
     },
     "execution_count": 136,
     "metadata": {},
     "output_type": "execute_result"
    }
   ],
   "source": [
    "def fixed_mul(a: Fixed, b: Fixed) -> Fixed:\n",
    "    # first shift operands by half of the exponent\n",
    "    e0 = EXPONENT // 2\n",
    "    e1 = EXPONENT - e0\n",
    "    return (a >> e0) * (b >> e1)\n",
    "\n",
    "a = to_fixed(2.0)\n",
    "b = to_fixed(3.0)\n",
    "to_float(fixed_mul(a, b))"
   ]
  },
  {
   "attachments": {
    "937b5daf-459c-4695-85c9-c45ce4a45411.png": {
     "image/png": "[encoded data removed]"
    }
   },
   "cell_type": "markdown",
   "id": "860722d3-2220-437e-8d26-3672703b6dfc",
   "metadata": {},
   "source": [
    "## Floating points\n",
    "* Stores a variable exponent together with the number value and sign bit.\n",
    "* Standardized under IEEE 754.\n",
    "* Also specifies operations and more\n",
    "* Allows for higher range of numbers to be expressed\n",
    "* Multiple variants excists for half-precision, double and quad precision as well\n",
    "* Can be slow without deidcated hardware\n",
    "\n",
    "\n",
    "![image.png](attachment:937b5daf-459c-4695-85c9-c45ce4a45411.png)\n",
    "\n",
    "## Evaluation\n",
    "$$(-1)^s * 2^{exponent-127} * (1 + fraction)$$"
   ]
  },
  {
   "cell_type": "code",
   "execution_count": 173,
   "id": "232663ae-f832-434b-90a5-8d4ab0b6244e",
   "metadata": {
    "scrolled": true
   },
   "outputs": [
    {
     "name": "stdout",
     "output_type": "stream",
     "text": [
      "number 0.15625\n",
      "bits 00111110001000000000000000000000\n",
      "sign 0 0\n",
      "exponent 01111100 124\n",
      "fraction 01000000000000000000000 2097152\n",
      "evaluation 0.15625\n"
     ]
    }
   ],
   "source": [
    "import struct\n",
    "def float_bits(num: float) -> str:\n",
    "    return ''.join('{:0>8b}'.format(c) for c in struct.pack('!f', num))\n",
    "\n",
    "def print_parts(num: float):\n",
    "    bits = float_bits(num)\n",
    "    print('number', num)\n",
    "    print('bits', bits)\n",
    "    print('sign', bits[0], int(bits[0], 2))\n",
    "    print('exponent', bits[1:9], int(bits[1:9], 2))\n",
    "    print('fraction', bits[9:32], int(bits[9:32], 2))    \n",
    "    sign = int(bits[0], 2)\n",
    "    exponent = int(bits[1:9], 2)\n",
    "    fraction = int(bits[9:32], 2) / (1 << 23)\n",
    "    print('evaluation', (-1)**sign * 2 ** (exponent - 127) * (1 + fraction))\n",
    "\n",
    "print_parts(0.15625)"
   ]
  },
  {
   "cell_type": "markdown",
   "id": "498d07d8-d6bf-4240-ac3e-237263583eec",
   "metadata": {},
   "source": [
    "### Subnormal numbers\n",
    "- Numers are always stored on _normal_ form where there are no leading zeroes in the fraction part.\n",
    "- However, for sufficently small numbers this is not possible (when the exponent is already maxed out)\n",
    "- This is encoded as the exponent having it's lowest possible value (0), while the fraction part is non-zero"
   ]
  },
  {
   "cell_type": "markdown",
   "id": "13d92e73-7460-4aa6-8bdf-ab88f7601140",
   "metadata": {},
   "source": [
    "### Infinites\n",
    "* Encoded as all ones for the exponent (for eample 256 for 8-bit exponent) and the fraction being _zero_.\n",
    "* There are thus only two infinites $-\\infty$ and $\\infty$."
   ]
  },
  {
   "cell_type": "markdown",
   "id": "0d0d7b6d-895f-425f-a434-8a8a0254b86c",
   "metadata": {},
   "source": [
    "### Not A Number (NAN)\n",
    "- Encoded as all ones for the exponent (for eample 256 for 8-bit exponent) and the fraction being _non-zero_.\n",
    "- Used to store results \n",
    "- There are thus many NANs as the fraction part can by any non-zero value.\n",
    "- Also the sign is normally ignored and can also be used to store data."
   ]
  },
  {
   "cell_type": "code",
   "execution_count": 176,
   "id": "fe82f67e-a67f-45e4-a8d0-56a1a4683584",
   "metadata": {},
   "outputs": [
    {
     "name": "stdout",
     "output_type": "stream",
     "text": [
      "number nan\n",
      "bits 01111111110000000000000000000000\n",
      "sign 0 0\n",
      "exponent 11111111 255\n",
      "fraction 10000000000000000000000 4194304\n",
      "evaluation 5.104235503814077e+38\n"
     ]
    }
   ],
   "source": [
    "print_parts(float('nan'))"
   ]
  },
  {
   "cell_type": "markdown",
   "id": "67f92ad9-817c-46b0-8c39-ba07dd9c0700",
   "metadata": {
    "jp-MarkdownHeadingCollapsed": true
   },
   "source": [
    "## Questions"
   ]
  }
 ],
 "metadata": {
  "kernelspec": {
   "display_name": "Python 3 (ipykernel)",
   "language": "python",
   "name": "python3"
  },
  "language_info": {
   "codemirror_mode": {
    "name": "ipython",
    "version": 3
   },
   "file_extension": ".py",
   "mimetype": "text/x-python",
   "name": "python",
   "nbconvert_exporter": "python",
   "pygments_lexer": "ipython3",
   "version": "3.11.2"
  }
 },
 "nbformat": 4,
 "nbformat_minor": 5
}
